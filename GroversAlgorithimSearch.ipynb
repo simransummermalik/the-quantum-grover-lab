{
  "nbformat": 4,
  "nbformat_minor": 0,
  "metadata": {
    "colab": {
      "provenance": []
    },
    "kernelspec": {
      "name": "python3",
      "display_name": "Python 3"
    },
    "language_info": {
      "name": "python"
    }
  },
  "cells": [
    {
      "cell_type": "code",
      "execution_count": 71,
      "metadata": {
        "colab": {
          "base_uri": "https://localhost:8080/"
        },
        "id": "64YRJYazl3vR",
        "outputId": "69935ed5-a0a6-4e5d-b6e3-6985013cef34"
      },
      "outputs": [
        {
          "output_type": "stream",
          "name": "stdout",
          "text": [
            "Today we're doing a live race.\n",
            "Story: there's a locked box that opens only if you guess a secret 4-bit code. Think something like 1010.\n",
            "Team Classical will try to break the code by brute force.\n",
            "Team Quantum will try to break the code using Grover's algorithm, which is a quantum search routine.\n",
            "-The point of this is not just haha quantum faster. The point is:\n",
            "-Searching for the right answer inside a huge space is actually what we do in machine learning all the time. We spend all of training trying to find good parameters.\n",
            "- Grover's algorithm is literally built to speed up that kind of search.\n",
            "- So this matters for quantum machine learning because if you can speed up the search for good parameters, you might be able to speed up training.\n",
            "Agenda:\n",
            "1. Set up the problem and pick a secret 4-bit code (this is the password).\n",
            "2. Classical brute-force search.\n",
            "3. Quantum Grover search.\n",
            "4. Visualize how Grover amplifies the correct answer.\n",
            "5. Talk about how this connects to machine learning and optimization.\n",
            "6. Answer the question: Does quantum beat everything, including neural networks? (Short answer: no, and I'll explain why.)\n"
          ]
        }
      ],
      "source": [
        "# Grover's: Quantum vs. Classical Search\n",
        "\n",
        "print(\"Today we're doing a live race.\")\n",
        "\n",
        "print(\"Story: there's a locked box that opens only if you guess a secret 4-bit code. Think something like 1010.\")\n",
        "\n",
        "print(\"Team Classical will try to break the code by brute force.\")\n",
        "\n",
        "print(\"Team Quantum will try to break the code using Grover's algorithm, which is a quantum search routine.\")\n",
        "\n",
        "print(\"-The point of this is not just haha quantum faster. The point is:\")\n",
        "print(\"-Searching for the right answer inside a huge space is actually what we do in machine learning all the time. We spend all of training trying to find good parameters.\")\n",
        "print(\"- Grover's algorithm is literally built to speed up that kind of search.\")\n",
        "print(\"- So this matters for quantum machine learning because if you can speed up the search for good parameters, you might be able to speed up training.\")\n",
        "\n",
        "print(\"Agenda:\")\n",
        "print(\"1. Set up the problem and pick a secret 4-bit code (this is the password).\")\n",
        "print(\"2. Classical brute-force search.\")\n",
        "print(\"3. Quantum Grover search.\")\n",
        "print(\"4. Visualize how Grover amplifies the correct answer.\")\n",
        "print(\"5. Talk about how this connects to machine learning and optimization.\")\n",
        "print(\"6. Answer the question: Does quantum beat everything, including neural networks? (Short answer: no, and I'll explain why.)\")\n"
      ]
    },
    {
      "cell_type": "code",
      "source": [
        "# Grover's Escape Room: Quantum vs. Classical Search\n",
        "\n",
        "# Context of what we're doing today:\n",
        "\n",
        "# You are all locked in a fake bunker (mentally). The only way to \"get out\" is to guess a 4-bit code. Example of a 4-bit code would be `1010`. Four bits = four binary digits. That means 16 possible codes total, from `0000` up to `1111`.\n",
        "\n",
        "# Here's how we're going to run this:\n",
        "\n",
        "# - Classical Team:\n",
        "  # - You will try to brute-force the code by guessing possibilities one at a time.\n",
        "  # - This is literally what brute force password cracking looks like if you’re not doing anything clever.\n",
        "\n",
        "# - Quantum Team:\n",
        "  # - We’re going to run an algorithm called Grover’s algorithm.\n",
        "  # - Instead of guessing codes one by one, Grover boosts the correct answer’s probability so high that when we \"measure\" once, that one shot is very likely to already be the correct code.\n",
        "\n",
        "# At the end, we compare: did we do fewer tries (quantum) than classical? Answer should be yes, and in a stronger way than \"just faster computer.\" It's mathematically fewer tries as the space gets bigger.\n",
        "\n",
        "# Why I'm showing you this (this is what matters for QML, not just the trick):\n",
        "# - Training a machine learning model (like tuning weights in a neural network) is basically one giant search for parameters that don't suck.\n",
        "# - Grover is literally an algorithm that speeds up search.\n",
        "# - If you can speed up search, you can potentially speed up learning.\n",
        "# - This is why quantum machine learning is a thing and not just hype words.\n",
        "\n",
        "# What we will cover in order:\n",
        "# 1. We secretly choose a code.\n",
        "# 2. We look at how classical brute force behaves.\n",
        "# 3. We build Grover’s quantum search and inspect how it behaves.\n",
        "# 4. We plot the probability spike so you can literally see one answer dominate.\n",
        "# 5. We explain why that matters for machine learning and optimization.\n",
        "\n",
        "# Ground rules for the demo:\n",
        "# - I already loaded the secret in the notebook in a cell you are not supposed to scroll down to look at the THIRD CELL\n",
        "# - Don't scroll to the third cell. If you scroll up and read it, congratulations, you ruined the game and also outed yourself as That Person.\n",
        "# - I will check guesses myself locally and I’ll tell you when someone hits it.\n"
      ],
      "metadata": {
        "id": "Sv6LgRWdr6XQ"
      },
      "execution_count": 72,
      "outputs": []
    },
    {
      "cell_type": "code",
      "source": [
        "# ADMIN / PRESENTER CELL\n",
        "# DO NOT SCROLL UP IF YOU'RE IN THE ROOM WATCHING THIS\n",
        "# I'm serious. Don't ruin the game.\n",
        "\n",
        "# Pick any 4-bit string. Change it live if you want.\n",
        "SECRET_CODE = \"1011\"  # I will change this if you read so please do not!!!\n",
        "\n",
        "# number of qubits is just the length of the code\n",
        "n_qubits = len(SECRET_CODE)\n",
        "\n",
        "# Convert secret bitstring (\"1010\") to an integer index (10)\n",
        "target_index = int(SECRET_CODE, 2)\n",
        "\n",
        "print(\"Secret loaded.\")\n",
        "print(\"Number of qubits:\", n_qubits)\n",
        "print(\"Search space size:\", 2 ** n_qubits, \"possible codes\")\n",
        "\n",
        "# IMPORTANT:\n",
        "# After this cell runs, I am not going to re-print SECRET_CODE anywhere.\n",
        "# Please don't scroll back up to cheat."
      ],
      "metadata": {
        "colab": {
          "base_uri": "https://localhost:8080/"
        },
        "id": "BlAHULs1qpoZ",
        "outputId": "ea3f96fb-13ef-4a88-bb86-37c2a8de51a8"
      },
      "execution_count": 73,
      "outputs": [
        {
          "output_type": "stream",
          "name": "stdout",
          "text": [
            "Secret loaded.\n",
            "Number of qubits: 4\n",
            "Search space size: 16 possible codes\n"
          ]
        }
      ]
    },
    {
      "cell_type": "code",
      "source": [
        "!pip install pennylane matplotlib --quiet"
      ],
      "metadata": {
        "id": "TzfegdjcmoA2"
      },
      "execution_count": 74,
      "outputs": []
    },
    {
      "cell_type": "code",
      "source": [
        "#Imports as always\n",
        "import itertools\n",
        "import random\n",
        "import math\n",
        "import numpy as np\n",
        "import matplotlib.pyplot as plt\n",
        "import pennylane as qml\n",
        "from pennylane import numpy as pnp\n",
        "\n",
        "print(\"Libraries are now ready :)\")\n",
        "\n"
      ],
      "metadata": {
        "colab": {
          "base_uri": "https://localhost:8080/"
        },
        "id": "B4DC4wZwmxHX",
        "outputId": "a24904aa-dcf0-44d7-f172-d4179a92ad80"
      },
      "execution_count": 75,
      "outputs": [
        {
          "output_type": "stream",
          "name": "stdout",
          "text": [
            "Libraries are now ready :)\n"
          ]
        }
      ]
    },
    {
      "cell_type": "code",
      "source": [
        "## Classical brute force strategy\n",
        "\n",
        "# Let's talk about how classical guessing works.\n",
        "\n",
        "# If you don't know the code, you just guess something like `0101`, then you check. If it's wrong, you guess `0000`, then check. Repeat.\n",
        "\n",
        "# That's literally brute force. There is no intelligence in it. It's just: generate candidate → test → repeat.\n",
        "\n",
        "# For a 4-bit code:\n",
        "# - There are 16 possible codes.\n",
        "# - Worst case, you might have to try all 16.\n",
        "\n",
        "# For a 40-bit code:\n",
        "# - There are 2^40 possibilities.\n",
        "# - 2^40 is over a trillion.\n",
        "# - You are not doing that by hand, and it's not instant anymore.\n",
        "\n",
        "# Now we write a little helper that simulates a classical brute force attacker.\n",
        "# It doesn't know the answer. It just tries everything in some order.\n",
        "# We’ll save that order, because that's what our \"Classical Team\" will basically act out in the room.\n"
      ],
      "metadata": {
        "id": "PIwpH6OhsoSf"
      },
      "execution_count": 76,
      "outputs": []
    },
    {
      "cell_type": "code",
      "source": [
        "def classical_bruteforce_attempts(num_bits, reveal_order=False):\n",
        "    \"\"\"\n",
        "    Simulate classical brute force.\n",
        "\n",
        "    num_bits: number of bits in the code (here it's 4).\n",
        "    reveal_order: if True, we'll print each guess in the order we'd try it.\n",
        "\n",
        "    This function DOES NOT know the secret during generation.\n",
        "    It just builds the list of all possible bitstrings of that length,\n",
        "    shuffles them (so it's not just 0000, 0001, 0010, ...),\n",
        "    and returns that list as the \"attack order\".\n",
        "\n",
        "    During the live session:\n",
        "    - Classical Team will basically be playing this role out loud:\n",
        "      guessing codes from this list.\n",
        "    \"\"\"\n",
        "    # generate all bitstrings of length num_bits\n",
        "    all_candidates = [''.join(bits) for bits in itertools.product('01', repeat=num_bits)]\n",
        "\n",
        "    # randomize the order so it feels less like we're just counting up\n",
        "    random.shuffle(all_candidates)\n",
        "\n",
        "    if reveal_order:\n",
        "        print(\"Classical brute-force guess order:\")\n",
        "        for i, guess in enumerate(all_candidates, start=1):\n",
        "            print(f\"Try {i}: {guess}\")\n",
        "\n",
        "    return all_candidates\n",
        "\n",
        "# Let's generate the attempt order for however many bits we're using.\n",
        "attempt_order = classical_bruteforce_attempts(n_qubits, reveal_order=True)\n",
        "\n",
        "print(\"\\nTotal number of possible codes:\", len(attempt_order))\n",
        "print(\"Worst-case number of guesses needed (classical):\", len(attempt_order))\n"
      ],
      "metadata": {
        "colab": {
          "base_uri": "https://localhost:8080/"
        },
        "id": "rU9itdvOqjrK",
        "outputId": "215ea08c-840b-4dcd-af9e-a85fe8cec261"
      },
      "execution_count": 77,
      "outputs": [
        {
          "output_type": "stream",
          "name": "stdout",
          "text": [
            "Classical brute-force guess order:\n",
            "Try 1: 1001\n",
            "Try 2: 1000\n",
            "Try 3: 1111\n",
            "Try 4: 1110\n",
            "Try 5: 0110\n",
            "Try 6: 0000\n",
            "Try 7: 0001\n",
            "Try 8: 0100\n",
            "Try 9: 0101\n",
            "Try 10: 0111\n",
            "Try 11: 0011\n",
            "Try 12: 1010\n",
            "Try 13: 0010\n",
            "Try 14: 1101\n",
            "Try 15: 1011\n",
            "Try 16: 1100\n",
            "\n",
            "Total number of possible codes: 16\n",
            "Worst-case number of guesses needed (classical): 16\n"
          ]
        }
      ]
    },
    {
      "cell_type": "code",
      "source": [
        "def check_guess(guess_str, target_index):\n",
        "    \"\"\"\n",
        "    Returns True if guess_str matches the secret.\n",
        "    Robust to weird types coming from PennyLane / NumPy.\n",
        "\n",
        "    guess_str: intended to be something like \"0110\"\n",
        "               but could come in as an array-like, so we coerce.\n",
        "    target_index: integer index for the secret code.\n",
        "    \"\"\"\n",
        "\n",
        "    # If guess_str is array-like (e.g. numpy.str_, 0-d array, etc), coerce it.\n",
        "    # Step 1: make sure it's a plain Python string of 0s/1s.\n",
        "    if not isinstance(guess_str, str):\n",
        "        try:\n",
        "            # Try to convert array-like to scalar first\n",
        "            guess_str = str(guess_str)\n",
        "        except Exception:\n",
        "            return False\n",
        "\n",
        "    guess_str = guess_str.strip()\n",
        "\n",
        "    # Now check that it's valid binary.\n",
        "    if any(ch not in \"01\" for ch in guess_str):\n",
        "        return False\n",
        "\n",
        "    # Convert to decimal index\n",
        "    try:\n",
        "        guess_idx = int(guess_str, 2)\n",
        "    except Exception:\n",
        "        return False\n",
        "\n",
        "    return guess_idx == target_index\n",
        "\n"
      ],
      "metadata": {
        "id": "QuQJ2MGsq3ia"
      },
      "execution_count": 78,
      "outputs": []
    },
    {
      "cell_type": "code",
      "source": [
        "# We now set up a simulated quantum device with as many \"wires\" (qubits)\n",
        "# as there are bits in our secret code.\n",
        "\n",
        "# shots=None means \"statevector mode\":\n",
        "# we don't just take a measurement, we actually get access to the full quantum state amplitudes.\n",
        "# You can't do this on real hardware, but you can on a simulator, and it's perfect for teaching.\n",
        "\n",
        "dev = qml.device(\"default.qubit\", wires=n_qubits, shots=None)\n",
        "\n",
        "print(\"Quantum simulator initialized with\", n_qubits, \"qubits.\")\n"
      ],
      "metadata": {
        "colab": {
          "base_uri": "https://localhost:8080/"
        },
        "id": "2ofRM84atEMH",
        "outputId": "290b53cf-2ef5-4d44-a205-0785e519bf1f"
      },
      "execution_count": 79,
      "outputs": [
        {
          "output_type": "stream",
          "name": "stdout",
          "text": [
            "Quantum simulator initialized with 4 qubits.\n"
          ]
        }
      ]
    },
    {
      "cell_type": "code",
      "source": [
        "def target_bits_from_index(target_index, n_qubits):\n",
        "    \"\"\"\n",
        "    Convert the secret's decimal index back to its binary bitstring form,\n",
        "    padded to n_qubits bits.\n",
        "\n",
        "    For example:\n",
        "    If the secret is \"1010\", that's index 10.\n",
        "    This returns \"1010\".\n",
        "    \"\"\"\n",
        "    return format(target_index, f\"0{n_qubits}b\")\n",
        "\n",
        "# We call this internally inside the oracle.\n",
        "_ = target_bits_from_index(target_index, n_qubits)\n",
        "print(\"Target bits helper prepared (not printed).\")\n"
      ],
      "metadata": {
        "colab": {
          "base_uri": "https://localhost:8080/"
        },
        "id": "-H4vytu6tNRC",
        "outputId": "c5e3187f-dc61-4560-f23e-2a2dbb5d22d7"
      },
      "execution_count": 80,
      "outputs": [
        {
          "output_type": "stream",
          "name": "stdout",
          "text": [
            "Target bits helper prepared (not printed).\n"
          ]
        }
      ]
    },
    {
      "cell_type": "code",
      "source": [
        "def oracle():\n",
        "    \"\"\"\n",
        "    The oracle marks the correct answer by flipping its phase.\n",
        "\n",
        "    Steps:\n",
        "    1. For each qubit where the secret bit is '0', apply X so that the secret state maps to |111...1>.\n",
        "    2. Apply a multi-controlled phase flip on |111...1>.\n",
        "       We fake a multi-controlled Z using:\n",
        "         MCX -> Z on last qubit -> MCX again.\n",
        "    3. Undo the X gates from step 1.\n",
        "\n",
        "    After this, ONLY the correct state has its phase flipped.\n",
        "    \"\"\"\n",
        "    bits_list = target_bits_from_index(target_index, n_qubits)\n",
        "\n",
        "    # Step 1: map the target basis state to |111...1>\n",
        "    for wire, bit in enumerate(bits_list):\n",
        "        if bit == '0':\n",
        "            qml.PauliX(wire)\n",
        "\n",
        "    # Step 2: multi-controlled phase flip.\n",
        "    # controls = all wires except the last\n",
        "    # target   = last wire\n",
        "    controls = list(range(n_qubits - 1))\n",
        "    target = n_qubits - 1\n",
        "    control_vals = [1] * len(controls)  # e.g. [1,1,1] instead of \"111\"\n",
        "\n",
        "    # MCX -> Z -> MCX trick\n",
        "    qml.MultiControlledX(\n",
        "        wires=controls + [target],\n",
        "        control_values=control_vals\n",
        "    )\n",
        "    qml.PauliZ(target)\n",
        "    qml.MultiControlledX(\n",
        "        wires=controls + [target],\n",
        "        control_values=control_vals\n",
        "    )\n",
        "\n",
        "    # Step 3: undo step 1\n",
        "    for wire, bit in enumerate(bits_list):\n",
        "        if bit == '0':\n",
        "            qml.PauliX(wire)\n",
        "\n"
      ],
      "metadata": {
        "id": "P_qzFO0ttTLB"
      },
      "execution_count": 81,
      "outputs": []
    },
    {
      "cell_type": "code",
      "source": [
        "def diffusion():\n",
        "    \"\"\"\n",
        "    Diffusion (a.k.a. inversion about the mean).\n",
        "\n",
        "    Intuition:\n",
        "    - After oracle() tags the correct state, diffusion() amplifies it\n",
        "      by reflecting amplitudes around their average.\n",
        "    - That steals probability mass from wrong answers and shoves it\n",
        "      into the marked one.\n",
        "\n",
        "    Mechanically:\n",
        "    1. Apply H then X on every qubit to map the \"mean\" structure into |111...1>.\n",
        "    2. Do the same multi-controlled phase flip on |111...1>.\n",
        "    3. Undo X then H on every qubit.\n",
        "    \"\"\"\n",
        "    # Step 1: H + X on all wires\n",
        "    for wire in range(n_qubits):\n",
        "        qml.Hadamard(wire)\n",
        "        qml.PauliX(wire)\n",
        "\n",
        "    # Step 2: multi-controlled phase flip on |111...1>\n",
        "    controls = list(range(n_qubits - 1))\n",
        "    target = n_qubits - 1\n",
        "    control_vals = [1] * len(controls)\n",
        "\n",
        "    qml.MultiControlledX(\n",
        "        wires=controls + [target],\n",
        "        control_values=control_vals\n",
        "    )\n",
        "    qml.PauliZ(target)\n",
        "    qml.MultiControlledX(\n",
        "        wires=controls + [target],\n",
        "        control_values=control_vals\n",
        "    )\n",
        "\n",
        "    # Step 3: undo X + H\n",
        "    for wire in range(n_qubits):\n",
        "        qml.PauliX(wire)\n",
        "        qml.Hadamard(wire)\n",
        "\n"
      ],
      "metadata": {
        "id": "TUhG0UwNtUaO"
      },
      "execution_count": 82,
      "outputs": []
    },
    {
      "cell_type": "code",
      "source": [
        "def grover_iterations_for(n_qubits):\n",
        "    \"\"\"\n",
        "    For a search space of size N = 2^n,\n",
        "    the theoretically optimal number of Grover iterations\n",
        "    for a single marked item is about (pi/4)*sqrt(N).\n",
        "\n",
        "    We're rounding to an integer. For tiny N that is fine.\n",
        "    \"\"\"\n",
        "    N = 2 ** n_qubits\n",
        "    return int(round((math.pi / 4) * math.sqrt(N)))\n",
        "\n",
        "num_iters = grover_iterations_for(n_qubits)\n",
        "\n",
        "print(\"Grover iteration count we'll use:\", num_iters)\n",
        "print(\"Why this matters: classical worst-case ~ N checks. Grover ~ sqrt(N) steps.\")\n"
      ],
      "metadata": {
        "colab": {
          "base_uri": "https://localhost:8080/"
        },
        "id": "xGJA-1svtX43",
        "outputId": "3090143b-f223-43a1-815b-59b834ffcf3d"
      },
      "execution_count": 83,
      "outputs": [
        {
          "output_type": "stream",
          "name": "stdout",
          "text": [
            "Grover iteration count we'll use: 3\n",
            "Why this matters: classical worst-case ~ N checks. Grover ~ sqrt(N) steps.\n"
          ]
        }
      ]
    },
    {
      "cell_type": "code",
      "source": [
        "def grover_iterations_for(n_qubits):\n",
        "    \"\"\"\n",
        "    For a space of size N = 2^n, Grover says:\n",
        "    you only need about (pi/4) * sqrt(N) iterations\n",
        "    to make the correct answer dominate.\n",
        "\n",
        "    That's the entire point.\n",
        "    Classical brute force can take O(N) tries.\n",
        "    Grover ~ O(sqrt(N)) \"tries\".\n",
        "\n",
        "    So for bigger N, sqrt(N) is way better than N.\n",
        "\n",
        "    Here we just round it for our small demo.\n",
        "    \"\"\"\n",
        "    N = 2 ** n_qubits\n",
        "    return int(round((math.pi / 4) * math.sqrt(N)))\n",
        "\n",
        "num_iters = grover_iterations_for(n_qubits)\n",
        "\n",
        "print(\"We'll use this many Grover iterations:\", num_iters)\n",
        "print(\"Why that matters:\")\n",
        "print(\"- Classical worst case: up to\", 2**n_qubits, \"guesses in series.\")\n",
        "print(\"- Grover theoretical scaling: about sqrt(N) rounds instead of N.\")\n",
        "print(\"So as problems get huge, that scaling gap blows up fast.\")\n",
        "\n"
      ],
      "metadata": {
        "colab": {
          "base_uri": "https://localhost:8080/"
        },
        "id": "IaHHHxeVtb3F",
        "outputId": "731aeab5-38f7-4588-b7f1-0b986bcc8db9"
      },
      "execution_count": 84,
      "outputs": [
        {
          "output_type": "stream",
          "name": "stdout",
          "text": [
            "We'll use this many Grover iterations: 3\n",
            "Why that matters:\n",
            "- Classical worst case: up to 16 guesses in series.\n",
            "- Grover theoretical scaling: about sqrt(N) rounds instead of N.\n",
            "So as problems get huge, that scaling gap blows up fast.\n"
          ]
        }
      ]
    },
    {
      "cell_type": "code",
      "source": [
        "@qml.qnode(dev)\n",
        "def grover_state(num_iters):\n",
        "    \"\"\"\n",
        "    Here's what we're doing:\n",
        "\n",
        "    1. Start in uniform superposition:\n",
        "       every possible code has equal amplitude.\n",
        "       So at the start, each code is equally likely.\n",
        "\n",
        "    2. For num_iters rounds:\n",
        "       - oracle(): \"tag\" the correct code by flipping its phase\n",
        "       - diffusion(): amplify that tagged code, steal probability\n",
        "         from all the others\n",
        "\n",
        "    3. Return the final full statevector.\n",
        "       We're in simulator mode, so we CAN actually look at amplitudes\n",
        "       and convert them to probabilities. On real hardware, you can't\n",
        "       just pull amplitudes like this; you only get measurement samples.\n",
        "\n",
        "    This is basically showing you how Grover reshapes the probability\n",
        "    landscape to make the winner loud.\n",
        "    \"\"\"\n",
        "\n",
        "    # Step 1: equal superposition (Hadamard on every qubit)\n",
        "    for wire in range(n_qubits):\n",
        "        qml.Hadamard(wire)\n",
        "\n",
        "    # Step 2: Grover iterations\n",
        "    for _ in range(num_iters):\n",
        "        oracle()\n",
        "        diffusion()\n",
        "\n",
        "    # Step 3: final statevector\n",
        "    return qml.state()\n",
        "\n",
        "state = grover_state(num_iters)\n",
        "\n",
        "# convert complex amplitudes -> classical probabilities\n",
        "probs = np.abs(state) ** 2\n",
        "\n",
        "# sanity check: probabilities should sum to ~1\n",
        "assert abs(np.sum(probs) - 1.0) < 1e-10, \"probabilities didn't normalize to 1, something's off\"\n",
        "\n",
        "# build the list of all possible bitstrings, like ['0000','0001',...]\n",
        "bit_labels = [format(i, f\"0{n_qubits}b\") for i in range(2 ** n_qubits)]\n",
        "\n",
        "print(\"Grover run complete.\")\n",
        "print(\"We now have a probability for every possible code.\")\n",
        "print(\"Next cell, we're going to literally plot which code Grover thinks is 'the one'.\")\n"
      ],
      "metadata": {
        "colab": {
          "base_uri": "https://localhost:8080/"
        },
        "id": "NzKOmi8NzDy7",
        "outputId": "199e9700-ff4c-48df-9c4c-0e760b257c93"
      },
      "execution_count": 85,
      "outputs": [
        {
          "output_type": "stream",
          "name": "stdout",
          "text": [
            "Grover run complete.\n",
            "We now have a probability for every possible code.\n",
            "Next cell, we're going to literally plot which code Grover thinks is 'the one'.\n"
          ]
        }
      ]
    },
    {
      "cell_type": "code",
      "source": [
        "plt.figure(figsize=(10,4))\n",
        "plt.bar(range(len(probs)), probs)\n",
        "plt.xticks(range(len(probs)), bit_labels, rotation=45)\n",
        "plt.xlabel(\"Candidate 4-bit code\")\n",
        "plt.ylabel(\"Probability after Grover\")\n",
        "plt.title(\"Grover amplifies the correct code\")\n",
        "plt.tight_layout()\n",
        "plt.show()\n",
        "\n",
        "max_prob = float(np.max(probs))\n",
        "max_index = int(np.argmax(probs))\n",
        "\n",
        "print(\"Most likely code right now (as decimal index):\", max_index)\n",
        "print(\"Its probability mass:\", round(max_prob, 4))\n",
        "print(\"Reminder:\")\n",
        "print(\" - Classical brute force: guesses one by one, no bias.\")\n",
        "print(\" - Grover: reshapes the whole probability landscape so the right answer sticks out.\")\n"
      ],
      "metadata": {
        "colab": {
          "base_uri": "https://localhost:8080/",
          "height": 494
        },
        "id": "tPLKcGzXzGaf",
        "outputId": "ae16ee0a-7730-42e4-e078-e4dd377f9853"
      },
      "execution_count": 86,
      "outputs": [
        {
          "output_type": "display_data",
          "data": {
            "text/plain": [
              "<Figure size 1000x400 with 1 Axes>"
            ],
            "image/png": "[encoded data removed]"
          },
          "metadata": {}
        },
        {
          "output_type": "stream",
          "name": "stdout",
          "text": [
            "Most likely code right now (as decimal index): 10\n",
            "Its probability mass: 0.165\n",
            "Reminder:\n",
            " - Classical brute force: guesses one by one, no bias.\n",
            " - Grover: reshapes the whole probability landscape so the right answer sticks out.\n"
          ]
        }
      ]
    },
    {
      "cell_type": "code",
      "source": [
        "# We'll mimic real hardware: you don't get full amplitudes,\n",
        "# you just get a single shot measurement.\n",
        "\n",
        "# Note: PennyLane yells about shots kwarg being deprecated.\n",
        "# That's just a warning. It's fine for us in a workshop.\n",
        "shots_dev = qml.device(\"default.qubit\", wires=n_qubits, shots=1)\n",
        "\n",
        "@qml.qnode(shots_dev)\n",
        "def grover_measure(num_iters):\n",
        "    \"\"\"\n",
        "    Prepare uniform superposition,\n",
        "    run Grover iterations,\n",
        "    then measure all qubits once.\n",
        "    \"\"\"\n",
        "    # start in superposition (all codes \"at once\")\n",
        "    for wire in range(n_qubits):\n",
        "        qml.Hadamard(wire)\n",
        "\n",
        "    # run Grover amplification\n",
        "    for _ in range(num_iters):\n",
        "        oracle()\n",
        "        diffusion()\n",
        "\n",
        "    # sample each qubit in the computational basis\n",
        "    # qml.sample(wires=i) returns an array like array([0]) or array([1])\n",
        "    return [qml.sample(wires=i) for i in range(n_qubits)]\n",
        "\n",
        "measured_bits = grover_measure(num_iters)\n",
        "\n",
        "# measured_bits is a list like [array([1]), array([0]), array([1]), array([0])]\n",
        "# We'll flatten it into a plain python string like \"1010\".\n",
        "bit_list = []\n",
        "for b in measured_bits:\n",
        "    # b is something like array([1])\n",
        "    # grab the 0th element, make it int (0 or 1), then convert to string \"0\"/\"1\"\n",
        "    bit_list.append(str(int(b[0])))\n",
        "\n",
        "quantum_guess = \"\".join(bit_list)\n",
        "\n",
        "print(\"Quantum team's single-shot guess:\", quantum_guess)\n",
        "\n",
        "# Now check if quantum basically unlocked it in one shot\n",
        "correct = check_guess(quantum_guess, target_index)\n",
        "print(\"Did quantum unlock the code in one shot:\", correct)\n",
        "\n",
        "# Extra talking point for the room:\n",
        "if correct:\n",
        "    print(\"Quantum got it in one try. Classical had to grind guesses.\")\n",
        "else:\n",
        "    print(\"Quantum missed this shot. We'd re-run 1-2 more times. Still way fewer tries than pure brute force scaling.\")\n",
        "\n"
      ],
      "metadata": {
        "colab": {
          "base_uri": "https://localhost:8080/"
        },
        "id": "NtVM2X6kzK5M",
        "outputId": "c49c6b14-3410-4082-d871-8ec6f75dee56"
      },
      "execution_count": 87,
      "outputs": [
        {
          "output_type": "stream",
          "name": "stdout",
          "text": [
            "Quantum team's single-shot guess: 1011\n",
            "Did quantum unlock the code in one shot: True\n",
            "Quantum got it in one try. Classical had to grind guesses.\n"
          ]
        },
        {
          "output_type": "stream",
          "name": "stderr",
          "text": [
            "/usr/local/lib/python3.12/dist-packages/pennylane/devices/device_api.py:193: PennyLaneDeprecationWarning: Setting shots on device is deprecated. Please use the `set_shots` transform on the respective QNode instead.\n",
            "  warnings.warn(\n",
            "/tmp/ipython-input-1853995815.py:36: DeprecationWarning: Conversion of an array with ndim > 0 to a scalar is deprecated, and will error in future. Ensure you extract a single element from your array before performing this operation. (Deprecated NumPy 1.25.)\n",
            "  bit_list.append(str(int(b[0])))\n"
          ]
        }
      ]
    },
    {
      "cell_type": "code",
      "source": [
        "## 15. Why this is actually relevant to machine learning (and not just a code-breaking party trick)\n",
        "\n",
        "print(\"Let me connect this directly to machine learning, because this is the actual point.\")\n",
        "\n",
        "print(\"Training a machine learning model (like a neural network) is basically this loop:\")\n",
        "print(\"- Pick some parameters (weights).\")\n",
        "print(\"- See how bad they are. That's your loss.\")\n",
        "print(\"- Update them to be less bad.\")\n",
        "print(\"- Repeat.\")\n",
        "print(\"- Hope it converges.\")\n",
        "\n",
        "print(\"That loop is a search process. We are searching the space of all possible parameter settings for something that works well.\")\n",
        "\n",
        "print(\"Underneath all the math words, we are doing...find me a good configuration in this huge ugly landscape.\")\n",
        "\n",
        "print(\"Now look at what Grover just did:\")\n",
        "print(\"- We had a huge possibility space (all 4-bit codes). In general this could be astronomically large.\")\n",
        "print(\"- We had a way to test if a candidate is good (the oracle: 'is this the secret?').\")\n",
        "print(\"- Instead of checking one candidate at a time (classical brute force), Grover used interference to amplify the good answer and suppress all the bad answers.\")\n",
        "print(\"- After a few Grover iterations, one single measurement already lands on a high-quality candidate with high probability.\")\n",
        "\n",
        "print(\"So why does quantum come up in ML talks?\")\n",
        "print(\"Because ML is ruled by search. You can use nicer language like optimization, training, hyperparameter tuning, finding low-loss minima, but it's still search.\")\n",
        "\n",
        "print(\"If quantum can make search cheaper — like we just showed — then, in principle, it can make some parts of training cheaper.\")\n",
        "\n",
        "print(\"This does NOT mean:\")\n",
        "print(\"- Quantum understands images better than classical models.\")\n",
        "print(\"- Quantum is better at language than current LLMs.\")\n",
        "\n",
        "print(\"It DOES mean:\")\n",
        "print(\"- There is a piece of ML that is literally 'find something good in a nasty search space,' and we just watched quantum bullying that exact type of problem.\")\n",
        "\n",
        "print(\"That is the core QML pitch. Not 'quantum thinks smarter.' It's 'quantum might make the worst part of ML (searching for something good) less painful.\")\n"
      ],
      "metadata": {
        "colab": {
          "base_uri": "https://localhost:8080/"
        },
        "id": "zelBpAYr0afP",
        "outputId": "33dba5d0-8030-4962-dd5c-db18790ebbf3"
      },
      "execution_count": 88,
      "outputs": [
        {
          "output_type": "stream",
          "name": "stdout",
          "text": [
            "Let me connect this directly to machine learning, because this is the actual point.\n",
            "Training a machine learning model (like a neural network) is basically this loop:\n",
            "- Pick some parameters (weights).\n",
            "- See how bad they are. That's your loss.\n",
            "- Update them to be less bad.\n",
            "- Repeat.\n",
            "- Hope it converges.\n",
            "That loop is a search process. We are searching the space of all possible parameter settings for something that works well.\n",
            "Underneath all the math words, we are doing...find me a good configuration in this huge ugly landscape.\n",
            "Now look at what Grover just did:\n",
            "- We had a huge possibility space (all 4-bit codes). In general this could be astronomically large.\n",
            "- We had a way to test if a candidate is good (the oracle: 'is this the secret?').\n",
            "- Instead of checking one candidate at a time (classical brute force), Grover used interference to amplify the good answer and suppress all the bad answers.\n",
            "- After a few Grover iterations, one single measurement already lands on a high-quality candidate with high probability.\n",
            "So why does quantum come up in ML talks?\n",
            "Because ML is ruled by search. You can use nicer language like optimization, training, hyperparameter tuning, finding low-loss minima, but it's still search.\n",
            "If quantum can make search cheaper — like we just showed — then, in principle, it can make some parts of training cheaper.\n",
            "This does NOT mean:\n",
            "- Quantum understands images better than classical models.\n",
            "- Quantum is better at language than current LLMs.\n",
            "It DOES mean:\n",
            "- There is a piece of ML that is literally 'find something good in a nasty search space,' and we just watched quantum bullying that exact type of problem.\n",
            "That is the core QML pitch. Not 'quantum thinks smarter.' It's 'quantum might make the worst part of ML (searching for something good) less painful.\n"
          ]
        }
      ]
    },
    {
      "cell_type": "code",
      "source": [
        "print(\"## 16. Does quantum beat everything? Does it beat neural networks right now?\\n\")\n",
        "\n",
        "print(\"Short version: No.\\n\")\n",
        "\n",
        "print(\"Long version:\\n\")\n",
        "\n",
        "print(\"Grover gives us a quadratic speedup for UNSTRUCTURED SEARCH.\\n\")\n",
        "\n",
        "print(\"Definition of unstructured search:\")\n",
        "print(\"- You have N possible answers.\")\n",
        "print(\"- There's not really helpful structure or gradients or heuristics you can follow.\")\n",
        "print(\"- You just need to find one 'good' answer (or one of a small set of good answers).\")\n",
        "print(\"- Example: guessing the lock code.\\n\")\n",
        "\n",
        "print(\"Classically, worst case, you check all N.\")\n",
        "print(\"Grover can do it in about sqrt(N) steps.\")\n",
        "print(\"For N in the trillions, sqrt(N) is still big, but it's dramatically smaller. That's real. That's provable.\\n\")\n",
        "\n",
        "print(\"Now, modern deep learning is not doing blind 'try random models until one works.'\")\n",
        "print(\"Deep learning uses structure:\")\n",
        "print(\"- It updates weights using gradients.\")\n",
        "print(\"- It leverages data structure (images, sequences, tokens).\")\n",
        "print(\"- The training loop is not random guessing in a dark room.\\n\")\n",
        "\n",
        "print(\"So, no:\")\n",
        "print(\"- Quantum is not currently better than big classical neural nets at image classification, speech, or text.\")\n",
        "print(\"- You can't just say 'quantum beats neural networks.' That's not where we are, and saying that kills credibility.\\n\")\n",
        "\n",
        "print(\"Where quantum *is* exciting:\")\n",
        "print(\"- Hard optimization problems with huge unstructured search spaces:\")\n",
        "print(\"  combinatorial scheduling, routing, assignment, portfolio optimization, chemistry, materials discovery,\")\n",
        "print(\"  and certain inner loops of model training or variational circuit optimization.\\n\")\n",
        "\n",
        "print(\"In other words:\")\n",
        "print(\"- Quantum does not instantly replace your CNN, transformer, or LLM.\")\n",
        "print(\"- Quantum does attack the raw pain: 'find a good solution in a disgusting search space' faster than classical scaling.\")\n",
        "print(\"- Machine learning sits right on top of that pain.\\n\")\n",
        "\n",
        "print(\"The honest claim:\")\n",
        "print(\"Quantum doesn't make neural networks obsolete.\")\n",
        "print(\"Quantum gives you a tool to accelerate search.\")\n",
        "print(\"Machine learning is secretly 90% search.\\n\")\n",
        "\n",
        "print(\"That's why this matters.\")\n"
      ],
      "metadata": {
        "colab": {
          "base_uri": "https://localhost:8080/"
        },
        "id": "QCAKxCGK1g2w",
        "outputId": "b13abdf2-896a-409a-c0a1-664b223016e3"
      },
      "execution_count": 89,
      "outputs": [
        {
          "output_type": "stream",
          "name": "stdout",
          "text": [
            "## 16. Does quantum beat everything? Does it beat neural networks right now?\n",
            "\n",
            "Short version: No.\n",
            "\n",
            "Long version:\n",
            "\n",
            "Grover gives us a quadratic speedup for UNSTRUCTURED SEARCH.\n",
            "\n",
            "Definition of unstructured search:\n",
            "- You have N possible answers.\n",
            "- There's not really helpful structure or gradients or heuristics you can follow.\n",
            "- You just need to find one 'good' answer (or one of a small set of good answers).\n",
            "- Example: guessing the lock code.\n",
            "\n",
            "Classically, worst case, you check all N.\n",
            "Grover can do it in about sqrt(N) steps.\n",
            "For N in the trillions, sqrt(N) is still big, but it's dramatically smaller. That's real. That's provable.\n",
            "\n",
            "Now, modern deep learning is not doing blind 'try random models until one works.'\n",
            "Deep learning uses structure:\n",
            "- It updates weights using gradients.\n",
            "- It leverages data structure (images, sequences, tokens).\n",
            "- The training loop is not random guessing in a dark room.\n",
            "\n",
            "So, no:\n",
            "- Quantum is not currently better than big classical neural nets at image classification, speech, or text.\n",
            "- You can't just say 'quantum beats neural networks.' That's not where we are, and saying that kills credibility.\n",
            "\n",
            "Where quantum *is* exciting:\n",
            "- Hard optimization problems with huge unstructured search spaces:\n",
            "  combinatorial scheduling, routing, assignment, portfolio optimization, chemistry, materials discovery,\n",
            "  and certain inner loops of model training or variational circuit optimization.\n",
            "\n",
            "In other words:\n",
            "- Quantum does not instantly replace your CNN, transformer, or LLM.\n",
            "- Quantum does attack the raw pain: 'find a good solution in a disgusting search space' faster than classical scaling.\n",
            "- Machine learning sits right on top of that pain.\n",
            "\n",
            "The honest claim:\n",
            "Quantum doesn't make neural networks obsolete.\n",
            "Quantum gives you a tool to accelerate search.\n",
            "Machine learning is secretly 90% search.\n",
            "\n",
            "That's why this matters.\n"
          ]
        }
      ]
    },
    {
      "cell_type": "code",
      "source": [
        "print(\"## 17. Where we take this next (aka what we could do in the next session)\\n\")\n",
        "\n",
        "print(\"Today we did:\")\n",
        "print(\"- A code-breaking game.\")\n",
        "print(\"- Classical brute force versus Grover’s algorithm.\")\n",
        "print(\"- We watched one bar in that probability plot shoot way up.\")\n",
        "print(\"- We said: 'Quantum made the right answer way more likely in about √N steps instead of N tries.'\\n\")\n",
        "\n",
        "print(\"That example was deliberately simple — the 'good answer' was just the secret code.\\n\")\n",
        "\n",
        "print(\"Next step is to stop using a fixed code and start doing actual learning.\\n\")\n",
        "\n",
        "print(\"What that looks like:\")\n",
        "print(\"- We build a tiny quantum model, also called a variational quantum circuit.\")\n",
        "print(\"- That circuit has parameters — basically tunable angles on quantum gates.\")\n",
        "print(\"- We define a loss function, like 'classify these two classes correctly' or 'separate these points.'\")\n",
        "print(\"- Then we train those parameters to minimize that loss.\\n\")\n",
        "\n",
        "print(\"Why that's interesting:\")\n",
        "print(\"- At that point, the quantum circuit is acting like a learnable model —\")\n",
        "print(\"  the same way a neuron or a shallow neural-net layer learns.\")\n",
        "print(\"- We're no longer just finding a single correct code — we're fitting data.\")\n",
        "print(\"- That’s when quantum ML stops being a trick demo and starts looking like\")\n",
        "print(\"  a component you could plug into a hybrid ML workflow.\\n\")\n",
        "\n",
        "print(\"So if you come back for the next session, that’s exactly what we’ll build:\")\n",
        "print(\"- a baby quantum classifier,\")\n",
        "print(\"- train it,\")\n",
        "print(\"- watch the loss drop,\")\n",
        "print(\"- and talk honestly about what scaled, what didn’t, and what broke.\\n\")\n",
        "\n",
        "print(\"That’s when this goes from 'cool trick' to 'okay, I see how this actually fits into ML pipelines.'\")\n"
      ],
      "metadata": {
        "colab": {
          "base_uri": "https://localhost:8080/"
        },
        "id": "_aStM6MI1vpt",
        "outputId": "c5f2bfd8-8c93-4e4c-bb07-eb3152a92265"
      },
      "execution_count": 90,
      "outputs": [
        {
          "output_type": "stream",
          "name": "stdout",
          "text": [
            "## 17. Where we take this next (aka what we could do in the next session)\n",
            "\n",
            "Today we did:\n",
            "- A code-breaking game.\n",
            "- Classical brute force versus Grover’s algorithm.\n",
            "- We watched one bar in that probability plot shoot way up.\n",
            "- We said: 'Quantum made the right answer way more likely in about √N steps instead of N tries.'\n",
            "\n",
            "That example was deliberately simple — the 'good answer' was just the secret code.\n",
            "\n",
            "Next step is to stop using a fixed code and start doing actual learning.\n",
            "\n",
            "What that looks like:\n",
            "- We build a tiny quantum model, also called a variational quantum circuit.\n",
            "- That circuit has parameters — basically tunable angles on quantum gates.\n",
            "- We define a loss function, like 'classify these two classes correctly' or 'separate these points.'\n",
            "- Then we train those parameters to minimize that loss.\n",
            "\n",
            "Why that's interesting:\n",
            "- At that point, the quantum circuit is acting like a learnable model —\n",
            "  the same way a neuron or a shallow neural-net layer learns.\n",
            "- We're no longer just finding a single correct code — we're fitting data.\n",
            "- That’s when quantum ML stops being a trick demo and starts looking like\n",
            "  a component you could plug into a hybrid ML workflow.\n",
            "\n",
            "So if you come back for the next session, that’s exactly what we’ll build:\n",
            "- a baby quantum classifier,\n",
            "- train it,\n",
            "- watch the loss drop,\n",
            "- and talk honestly about what scaled, what didn’t, and what broke.\n",
            "\n",
            "That’s when this goes from 'cool trick' to 'okay, I see how this actually fits into ML pipelines.'\n"
          ]
        }
      ]
    },
    {
      "cell_type": "code",
      "source": [
        "# Extra Cell A\n",
        "# Goal: Show how classical time blows up with search space size, even for toy sizes. You say “this is why scaling matters.”\n",
        "# if you say ------> “Dude it’s only 16 states, who cares.”\n",
        "# point at how search_space_size jumps from 2^4 = 16 to 2^16 = 65,536\n",
        "# We only went from 4 bits to 16 bits. That’s nothing in real crypto or model search. Classical already fell off a cliff\n",
        "# Now scale that reasoning to giant ML parameter spaces\n",
        "import time\n",
        "\n",
        "def brute_force_steps_until_hit(secret_bits):\n",
        "    \"\"\"\n",
        "    Simulate classical brute force for a given secret bitstring.\n",
        "    We'll count how many guesses we had to make before we hit it.\n",
        "    We won't shuffle here so it's deterministic.\n",
        "    \"\"\"\n",
        "    n = len(secret_bits)\n",
        "    all_candidates = [''.join(bits) for bits in itertools.product('01', repeat=n)]\n",
        "    for i, guess in enumerate(all_candidates, start=1):\n",
        "        if guess == secret_bits:\n",
        "            return i, len(all_candidates)\n",
        "\n",
        "    return None, len(all_candidates)  # shouldn't happen\n",
        "\n",
        "# test across different bit lengths\n",
        "bit_lengths = [4, 6, 8, 10, 12, 16]\n",
        "results = []\n",
        "\n",
        "for n in bit_lengths:\n",
        "    # fake a secret near the \"end\" to simulate worst-ish case\n",
        "    secret = \"1\" * n  # e.g. '111111'\n",
        "    start = time.time()\n",
        "    steps_needed, total_space = brute_force_steps_until_hit(secret)\n",
        "    elapsed = time.time() - start\n",
        "    results.append((n, total_space, steps_needed, elapsed))\n",
        "\n",
        "print(\"bit_length | search_space_size | steps_classical | time_sec\")\n",
        "for n, total_space, steps_needed, elapsed in results:\n",
        "    print(f\"{n:10d} | {total_space:17d} | {steps_needed:15d} | {elapsed:.6f}\")\n",
        "\n",
        "print(\"\\nNote:\")\n",
        "print(\"- Search space size doubles every time you add a bit.\")\n",
        "print(\"- Classical worst-case steps go up the same way.\")\n",
        "print(\"- This is why 'just brute force it' dies fast.\")\n"
      ],
      "metadata": {
        "colab": {
          "base_uri": "https://localhost:8080/"
        },
        "id": "joJSBtS5_m_w",
        "outputId": "3250f517-2055-4db0-c052-9991a29b7885"
      },
      "execution_count": 91,
      "outputs": [
        {
          "output_type": "stream",
          "name": "stdout",
          "text": [
            "bit_length | search_space_size | steps_classical | time_sec\n",
            "         4 |                16 |              16 | 0.000021\n",
            "         6 |                64 |              64 | 0.000028\n",
            "         8 |               256 |             256 | 0.000115\n",
            "        10 |              1024 |            1024 | 0.000523\n",
            "        12 |              4096 |            4096 | 0.001989\n",
            "        16 |             65536 |           65536 | 0.025794\n",
            "\n",
            "Note:\n",
            "- Search space size doubles every time you add a bit.\n",
            "- Classical worst-case steps go up the same way.\n",
            "- This is why 'just brute force it' dies fast.\n"
          ]
        }
      ]
    },
    {
      "cell_type": "code",
      "source": [
        "#Extra Cell B\n",
        "# Grover is fastest when there’s 1 marked item. But sometimes you don’t care about a single perfect answer — you care about any “good enough” region. People ask this a lot.\n",
        "# This cell gives you talking power, not perfect production code. We simulate a case where multiple codes are considered “good,” and we show how classical vs “marked set” search looks.\n",
        "#Well in ML you don’t have ONE perfect answer, you’ve got a basin of low loss.---------------> Exactly. If there are multiple ‘good’ regions, classical sometimes gets lucky sooner, and Grover’s scaling changes to ~sqrt(N / M) where M is number of good answers. Still a speedup, but different math\n",
        "def make_marked_set(num_bits, good_list):\n",
        "    \"\"\"\n",
        "    Return a set of codes that are considered 'good enough'.\n",
        "    good_list is a list of bitstrings that count as success.\n",
        "    \"\"\"\n",
        "    return set(good_list)\n",
        "\n",
        "def classical_find_any(marked_set, num_bits):\n",
        "    \"\"\"\n",
        "    Classical brute force: return the first code it finds that's in the marked set.\n",
        "    \"\"\"\n",
        "    for guess in [''.join(bits) for bits in itertools.product('01', repeat=num_bits)]:\n",
        "        if guess in marked_set:\n",
        "            return guess\n",
        "    return None\n",
        "\n",
        "# Example: pretend any of these codes is acceptable\n",
        "marked = make_marked_set(\n",
        "    num_bits=4,\n",
        "    good_list=[\"0000\", \"0101\", \"1010\"]  # three 'good' answers\n",
        ")\n",
        "\n",
        "print(\"Marked 'good enough' answers are:\", marked)\n",
        "\n",
        "first_hit = classical_find_any(marked, 4)\n",
        "print(\"Classical first acceptable hit:\", first_hit)\n",
        "print(\"If multiple answers are valid, classical might get lucky earlier and doesn't need worst-case N.\")\n",
        "\n",
        "print(\"\\nTalking point:\")\n",
        "print(\"If there are MANY marked answers, Grover's speedup changes (becomes ~sqrt(N/M) for M marked answers).\")\n",
        "print(\"So: more acceptable answers -> easier search for everyone.\")\n"
      ],
      "metadata": {
        "colab": {
          "base_uri": "https://localhost:8080/"
        },
        "id": "hs6E8h18AFAf",
        "outputId": "0633bb4b-9e67-477d-d188-cb4577154058"
      },
      "execution_count": 94,
      "outputs": [
        {
          "output_type": "stream",
          "name": "stdout",
          "text": [
            "Marked 'good enough' answers are: {'0000', '1010', '0101'}\n",
            "Classical first acceptable hit: 0000\n",
            "If multiple answers are valid, classical might get lucky earlier and doesn't need worst-case N.\n",
            "\n",
            "Talking point:\n",
            "If there are MANY marked answers, Grover's speedup changes (becomes ~sqrt(N/M) for M marked answers).\n",
            "So: more acceptable answers -> easier search for everyone.\n"
          ]
        }
      ]
    },
    {
      "cell_type": "code",
      "source": [
        "#Extra Cell C\n",
        "#This answers the “what if quantum misses once?” heckle.\n",
        "#If quantum misses once I know everyone will assume it doesnt work...\n",
        "# Now we just tried 10 shots. Look at how often it was right. Still way fewer tries than ‘check all trillion keys.’ That’s the point. You don’t need perfection to get a speedup. You need bias\n",
        "def grover_many_samples(num_iters, repeats=10):\n",
        "    \"\"\"\n",
        "    Run grover_measure() multiple times and see how often we get the right code.\n",
        "    \"\"\"\n",
        "    correct_count = 0\n",
        "    guesses = []\n",
        "\n",
        "    for _ in range(repeats):\n",
        "        measured_bits = grover_measure(num_iters)\n",
        "        bit_list = [str(int(b[0])) for b in measured_bits]\n",
        "        guess = \"\".join(bit_list)\n",
        "        guesses.append(guess)\n",
        "\n",
        "        if check_guess(guess, target_index):\n",
        "            correct_count += 1\n",
        "\n",
        "    return guesses, correct_count\n",
        "\n",
        "guesses, correct_count = grover_many_samples(num_iters, repeats=10)\n",
        "\n",
        "print(\"Quantum guesses from repeated one-shot measurements:\")\n",
        "print(guesses)\n",
        "print(f\"Correct {correct_count} / 10 times\")\n",
        "\n",
        "print(\"\\nTalking point:\")\n",
        "print(\"Grover doesn't guarantee 100% on the first shot.\")\n",
        "print(\"But the odds are heavily tilted toward the right answer.\")\n",
        "print(\"So a handful of shots is still way cheaper than 'search all N' when N is huge.\")\n"
      ],
      "metadata": {
        "colab": {
          "base_uri": "https://localhost:8080/"
        },
        "id": "-uu0UQS4ArOu",
        "outputId": "38ca29d6-c058-48a3-d17b-b50f5be67650"
      },
      "execution_count": 95,
      "outputs": [
        {
          "output_type": "stream",
          "name": "stdout",
          "text": [
            "Quantum guesses from repeated one-shot measurements:\n",
            "['0001', '1011', '1010', '1000', '1010', '1101', '0001', '0100', '0100', '1001']\n",
            "Correct 1 / 10 times\n",
            "\n",
            "Talking point:\n",
            "Grover doesn't guarantee 100% on the first shot.\n",
            "But the odds are heavily tilted toward the right answer.\n",
            "So a handful of shots is still way cheaper than 'search all N' when N is huge.\n"
          ]
        },
        {
          "output_type": "stream",
          "name": "stderr",
          "text": [
            "/tmp/ipython-input-2614256079.py:12: DeprecationWarning: Conversion of an array with ndim > 0 to a scalar is deprecated, and will error in future. Ensure you extract a single element from your array before performing this operation. (Deprecated NumPy 1.25.)\n",
            "  bit_list = [str(int(b[0])) for b in measured_bits]\n"
          ]
        }
      ]
    },
    {
      "cell_type": "code",
      "source": [
        "# Extra Cell D\n",
        "# Can we just go bigger than 4 bits?” The tricky part is: our code assumes SECRET_CODE was set earlier, and that determines n_qubits.\n",
        "# Changing it mid-notebook is annoying because you’d have to rebuild the device and re-run all definitions.\n",
        "#This cell gives you an answer to say instead of doing it immediatley\n",
        "def explain_scaling(bits):\n",
        "    N = 2 ** bits\n",
        "    print(f\"For {bits} bits:\")\n",
        "    print(f\"- Search space size is {N} possibilities.\")\n",
        "    classical = N\n",
        "    grover_steps = int(round((math.pi/4) * math.sqrt(N)))\n",
        "    print(f\"- Classical brute force worst case ~ {classical} checks.\")\n",
        "    print(f\"- Grover needs about {grover_steps} iterations before measuring once.\")\n",
        "    print(\"That's the scaling story. The math generalizes even if we don't demo it live.\\n\")\n",
        "\n",
        "for b in [4, 5, 6, 8, 10, 12, 16, 20]:\n",
        "    explain_scaling(b)\n",
        "#Output you’ll get looks like:\n",
        "# For 4 bits: classical worst case 16, Grover ~3\n",
        "# For 10 bits: classical worst case 1024, Grover ~25-ish\n",
        "# For 20 bits: classical worst case 1,048,576, Grover ~800-ish\n",
        "# Look how classical explodes. Quantum still grows, but way slower. That’s literally the promise people care about.\n",
        "# You do not need to rewire the actual quantum device live for 20 qubits (Colab will choke anyway), but you still talk about scaling with numbers."
      ],
      "metadata": {
        "colab": {
          "base_uri": "https://localhost:8080/"
        },
        "id": "LEqmrx9QAbtO",
        "outputId": "2f9f8cf9-3d77-4c8f-91dc-97ccc29f2177"
      },
      "execution_count": 96,
      "outputs": [
        {
          "output_type": "stream",
          "name": "stdout",
          "text": [
            "For 4 bits:\n",
            "- Search space size is 16 possibilities.\n",
            "- Classical brute force worst case ~ 16 checks.\n",
            "- Grover needs about 3 iterations before measuring once.\n",
            "That's the scaling story. The math generalizes even if we don't demo it live.\n",
            "\n",
            "For 5 bits:\n",
            "- Search space size is 32 possibilities.\n",
            "- Classical brute force worst case ~ 32 checks.\n",
            "- Grover needs about 4 iterations before measuring once.\n",
            "That's the scaling story. The math generalizes even if we don't demo it live.\n",
            "\n",
            "For 6 bits:\n",
            "- Search space size is 64 possibilities.\n",
            "- Classical brute force worst case ~ 64 checks.\n",
            "- Grover needs about 6 iterations before measuring once.\n",
            "That's the scaling story. The math generalizes even if we don't demo it live.\n",
            "\n",
            "For 8 bits:\n",
            "- Search space size is 256 possibilities.\n",
            "- Classical brute force worst case ~ 256 checks.\n",
            "- Grover needs about 13 iterations before measuring once.\n",
            "That's the scaling story. The math generalizes even if we don't demo it live.\n",
            "\n",
            "For 10 bits:\n",
            "- Search space size is 1024 possibilities.\n",
            "- Classical brute force worst case ~ 1024 checks.\n",
            "- Grover needs about 25 iterations before measuring once.\n",
            "That's the scaling story. The math generalizes even if we don't demo it live.\n",
            "\n",
            "For 12 bits:\n",
            "- Search space size is 4096 possibilities.\n",
            "- Classical brute force worst case ~ 4096 checks.\n",
            "- Grover needs about 50 iterations before measuring once.\n",
            "That's the scaling story. The math generalizes even if we don't demo it live.\n",
            "\n",
            "For 16 bits:\n",
            "- Search space size is 65536 possibilities.\n",
            "- Classical brute force worst case ~ 65536 checks.\n",
            "- Grover needs about 201 iterations before measuring once.\n",
            "That's the scaling story. The math generalizes even if we don't demo it live.\n",
            "\n",
            "For 20 bits:\n",
            "- Search space size is 1048576 possibilities.\n",
            "- Classical brute force worst case ~ 1048576 checks.\n",
            "- Grover needs about 804 iterations before measuring once.\n",
            "That's the scaling story. The math generalizes even if we don't demo it live.\n",
            "\n"
          ]
        }
      ]
    }
  ]
}